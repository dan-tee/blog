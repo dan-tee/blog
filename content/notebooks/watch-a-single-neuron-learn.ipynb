{
 "cells": [
  {
   "cell_type": "code",
   "execution_count": 1,
   "metadata": {
    "collapsed": false
   },
   "outputs": [
    {
     "data": {
      "image/png": "[encoded data removed]"
     },
     "metadata": {},
     "output_type": "display_data"
    }
   ],
   "source": [
    "# <!-- collapse=True -->\n",
    "%matplotlib inline\n",
    "import pandas as pd\n",
    "import numpy as np\n",
    "import matplotlib.pyplot as plt\n",
    "import seaborn as sns\n",
    "import math\n",
    "sns.set_style('whitegrid')\n",
    "sns.set_context('talk')\n",
    "\n",
    "n_points = 100\n",
    "x = np.linspace(0, 2, n_points)\n",
    "y = np.array([0] * int(n_points/2) + list(x[:50]))\n",
    "\n",
    "plt.figure(figsize=(5, 2))\n",
    "plt.plot(x, y, linewidth=2)\n",
    "plt.title('ridiculously simple data')\n",
    "plt.show()"
   ]
  },
  {
   "cell_type": "code",
   "execution_count": 2,
   "metadata": {
    "collapsed": false
   },
   "outputs": [
    {
     "name": "stdout",
     "output_type": "stream",
     "text": [
      "Using Theano backend.\n"
     ]
    },
    {
     "name": "stderr",
     "output_type": "stream",
     "text": [
      "//anaconda/lib/python3.5/site-packages/theano/tensor/signal/downsample.py:5: UserWarning: downsample module has been moved to the pool module.\n",
      "  warnings.warn(\"downsample module has been moved to the pool module.\")\n"
     ]
    },
    {
     "data": {
      "text/plain": [
       "'net initialized with weigths w0: 0.09, w1: 0.00'"
      ]
     },
     "execution_count": 2,
     "metadata": {},
     "output_type": "execute_result"
    }
   ],
   "source": [
    "from keras.models import Sequential\n",
    "from keras.layers.core import Dense, Activation\n",
    "\n",
    "np.random.seed(0)\n",
    "model = Sequential()\n",
    "model.add(Dense(output_dim=1, input_dim=1, init=\"normal\"))\n",
    "model.add(Activation(\"relu\"))\n",
    "model.compile(loss='mean_squared_error', optimizer='sgd')\n",
    "\n",
    "weights = model.layers[0].get_weights()\n",
    "w0 = weights[0][0][0]\n",
    "w1 = weights[1][0]\n",
    "'net initialized with weigths w0: {w0:.2f}, w1: {w1:.2f}'.format(**locals())"
   ]
  },
  {
   "cell_type": "code",
   "execution_count": 3,
   "metadata": {
    "collapsed": false
   },
   "outputs": [
    {
     "name": "stdout",
     "output_type": "stream",
     "text": [
      "CPU times: user 2.14 s, sys: 47.5 ms, total: 2.19 s\n",
      "Wall time: 2.34 s\n"
     ]
    }
   ],
   "source": [
    "from keras.callbacks import Callback\n",
    "\n",
    "%matplotlib notebook\n",
    "epochs = 5000\n",
    "batch_size = 100\n",
    "n_batches = n_points / batch_size\n",
    "intermediates = []\n",
    "\n",
    "X_train = np.array(x, ndmin=2).T\n",
    "Y_train = np.array(y, ndmin=2).T\n",
    "\n",
    "class PlotLoss(Callback):\n",
    "    def on_train_begin(self, logs={}):\n",
    "        self.losses = []\n",
    "        self.i = 0\n",
    "\n",
    "    def on_batch_end(self, batch, logs={}):\n",
    "        self.losses.append(logs.get('loss'))\n",
    "        self.i += 1        \n",
    "        if self.i % 100 == 0:        \n",
    "            pred = model.predict(X_train)\n",
    "            intermediates.append(pred)\n",
    "            \n",
    "loss = PlotLoss()\n",
    "%time model.fit(X_train,\\\n",
    "                Y_train,\\\n",
    "                nb_epoch=epochs,\\\n",
    "                batch_size=batch_size,\\\n",
    "                verbose=0,\\\n",
    "                callbacks=[loss])\n",
    "%matplotlib inline"
   ]
  },
  {
   "cell_type": "code",
   "execution_count": null,
   "metadata": {
    "collapsed": true
   },
   "outputs": [],
   "source": []
  },
  {
   "cell_type": "code",
   "execution_count": 22,
   "metadata": {
    "collapsed": false
   },
   "outputs": [
    {
     "data": {
      "image/png": "[encoded data removed]",
      "text/plain": [
       "<matplotlib.figure.Figure at 0x10a3c22e8>"
      ]
     },
     "metadata": {},
     "output_type": "display_data"
    }
   ],
   "source": [
    "import matplotlib.animation as animation\n",
    "\n",
    "fig = plt.figure(figsize=(5, 2.5))\n",
    "plt.plot(x, y,  label='data')\n",
    "line, = plt.plot(x, intermediates[0],  label='prediction')\n",
    "plt.legend(loc='upper left')\n",
    "#plt.tight_layout()\n",
    "\n",
    "def update_line(num):\n",
    "    plt.title('iteration: {0}'.format((100 * (num + 1))))\n",
    "    line.set_xdata(x)\n",
    "    line.set_ydata(intermediates[num])\n",
    "    return []\n",
    "\n",
    "ani = animation.FuncAnimation(fig, update_line, len(intermediates),\n",
    "                                   interval=50, blit=True)\n",
    "ani.save('../videos/neuron.mp4', extra_args=['-vcodec', 'libx264'])"
   ]
  },
  {
   "cell_type": "code",
   "execution_count": 23,
   "metadata": {
    "collapsed": false
   },
   "outputs": [
    {
     "data": {
      "image/png": "[encoded data removed]",
      "text/plain": [
       "<matplotlib.figure.Figure at 0x10a3d9ac8>"
      ]
     },
     "metadata": {},
     "output_type": "display_data"
    }
   ],
   "source": [
    "plt.figure(figsize=(5, 2.5))\n",
    "plt.plot(x, y, label='data')\n",
    "plt.plot(x, intermediates[0], label='prediction')\n",
    "plt.legend(loc='upper left')\n",
    "plt.title('iteration: 0')\n",
    "#plt.tight_layout()\n",
    "plt.savefig('../images/neuron_start.png')"
   ]
  },
  {
   "cell_type": "code",
   "execution_count": null,
   "metadata": {
    "collapsed": true
   },
   "outputs": [],
   "source": [
    "pred = model.predict(X_train)\n",
    "plt.plot(x, pred)\n",
    "plt.plot(x, y)"
   ]
  },
  {
   "cell_type": "code",
   "execution_count": null,
   "metadata": {
    "collapsed": true
   },
   "outputs": [],
   "source": [
    "# from keras.optimizers import RMSprop\n",
    "# opti = RMSprop(lr=0.001, rho=0.9, epsilon=1e-06)\n",
    "# model.compile(loss='mean_squared_error', optimizer=opti)"
   ]
  },
  {
   "cell_type": "code",
   "execution_count": null,
   "metadata": {
    "collapsed": true
   },
   "outputs": [],
   "source": [
    "from keras import backend as K\n",
    "\n",
    "def get_layer_outoput(layer):\n",
    "    return K.function([model.layers[0].input],\n",
    "                      [model.layers[layer].get_output(train=False)])\n",
    "\n",
    "print('weigths')\n",
    "print(model.layers[0].get_weights())\n",
    "#print(model.layers[2].get_weights())\n",
    "print()\n",
    "\n",
    "#print(model.layers[0].get_weights())\n",
    "\n",
    "# print('layers for input 0')\n",
    "# print(get_layer_outoput(0)([X_train[0:1,:]])[0])\n",
    "# print(get_layer_outoput(1)([X_train[0:1,:]])[0])\n",
    "# #print(get_layer_outoput(2)([X_train[0:1,:]])[0])\n",
    "# print()\n",
    "\n",
    "# print('layers for input 0.5')\n",
    "# print(get_layer_outoput(0)([X_train[5:6,:]])[0])\n",
    "# print(get_layer_outoput(1)([X_train[5:6,:]])[0])\n",
    "# #print(get_layer_outoput(2)([X_train[5:6,:]])[0])\n",
    "# print()\n",
    "\n",
    "# print('layers for input 1')\n",
    "# print(get_layer_outoput(0)([X_train[10:11,:]])[0])\n",
    "# print(get_layer_outoput(1)([X_train[10:11,:]])[0])\n",
    "#print(get_layer_outoput(2)([X_train[10:11,:]])[0])"
   ]
  },
  {
   "cell_type": "code",
   "execution_count": null,
   "metadata": {
    "collapsed": true
   },
   "outputs": [],
   "source": []
  }
 ],
 "metadata": {
  "kernelspec": {
   "display_name": "Conda",
   "language": "python",
   "name": "python3"
  },
  "language_info": {
   "codemirror_mode": {
    "name": "ipython",
    "version": 3
   },
   "file_extension": ".py",
   "mimetype": "text/x-python",
   "name": "python",
   "nbconvert_exporter": "python",
   "pygments_lexer": "ipython3",
   "version": "3.5.1"
  }
 },
 "nbformat": 4,
 "nbformat_minor": 0
}
