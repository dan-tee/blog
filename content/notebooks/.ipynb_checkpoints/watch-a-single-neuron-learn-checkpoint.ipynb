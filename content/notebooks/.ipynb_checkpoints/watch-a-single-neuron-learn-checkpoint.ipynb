{
 "cells": [
  {
   "cell_type": "code",
   "execution_count": 1,
   "metadata": {
    "collapsed": false
   },
   "outputs": [
    {
     "data": {
      "image/png": "[encoded data removed]",
      "text/plain": [
       "<matplotlib.figure.Figure at 0x1044d3f28>"
      ]
     },
     "metadata": {},
     "output_type": "display_data"
    }
   ],
   "source": [
    "# <!-- collapse=True -->\n",
    "%matplotlib inline\n",
    "import pandas as pd\n",
    "import numpy as np\n",
    "import matplotlib.pyplot as plt\n",
    "import seaborn as sns\n",
    "import math\n",
    "sns.set_style('whitegrid')\n",
    "sns.set_context('talk')\n",
    "\n",
    "n_points = 100\n",
    "x = np.linspace(0, 2, n_points)\n",
    "y = np.array([0] * int(n_points/2) + list(x[:50]))\n",
    "\n",
    "plt.figure(figsize=(5, 2))\n",
    "plt.plot(x, y, linewidth=2)\n",
    "plt.title('ridiculously simple data')\n",
    "plt.show()"
   ]
  },
  {
   "cell_type": "code",
   "execution_count": 3,
   "metadata": {
    "collapsed": false
   },
   "outputs": [
    {
     "data": {
      "text/plain": [
       "'net initialized with weigths w0: 0.09, w1: 0.00'"
      ]
     },
     "execution_count": 3,
     "metadata": {},
     "output_type": "execute_result"
    }
   ],
   "source": [
    "from keras.models import Sequential\n",
    "from keras.layers.core import Dense, Activation\n",
    "\n",
    "np.random.seed(0)\n",
    "model = Sequential()\n",
    "model.add(Dense(output_dim=1, input_dim=1, init=\"normal\"))\n",
    "model.add(Activation(\"relu\"))\n",
    "model.compile(loss='mean_squared_error', optimizer='sgd')\n",
    "\n",
    "# print initial weigths\n",
    "weights = model.layers[0].get_weights()\n",
    "w0 = weights[0][0][0]\n",
    "w1 = weights[1][0]\n",
    "'net initialized with weigths w0: {w0:.2f}, w1: {w1:.2f}'.format(**locals())"
   ]
  },
  {
   "cell_type": "code",
   "execution_count": 4,
   "metadata": {
    "collapsed": true
   },
   "outputs": [],
   "source": [
    "# <!-- collapse=True -->\n",
    "from keras.callbacks import Callback\n",
    "\n",
    "class TrainingHistory(Callback):\n",
    "    def on_train_begin(self, logs={}):\n",
    "        self.losses = []\n",
    "        self.predictions = []\n",
    "        self.i = 0\n",
    "        self.save_every = 50\n",
    "\n",
    "    def on_batch_end(self, batch, logs={}):\n",
    "        self.losses.append(logs.get('loss'))\n",
    "        self.i += 1        \n",
    "        if self.i % self.save_every == 0:        \n",
    "            pred = model.predict(X_train)\n",
    "            self.predictions.append(pred)\n",
    "            \n",
    "history = TrainingHistory()"
   ]
  },
  {
   "cell_type": "code",
   "execution_count": 5,
   "metadata": {
    "collapsed": false
   },
   "outputs": [
    {
     "data": {
      "text/plain": [
       "<keras.callbacks.History at 0x10a76f2b0>"
      ]
     },
     "execution_count": 5,
     "metadata": {},
     "output_type": "execute_result"
    }
   ],
   "source": [
    "X_train = np.array(x, ndmin=2).T\n",
    "Y_train = np.array(y, ndmin=2).T\n",
    "model.fit(X_train,\n",
    "          Y_train,\n",
    "          nb_epoch=5000,\n",
    "          verbose=0,\n",
    "          callbacks=[history])"
   ]
  },
  {
   "cell_type": "code",
   "execution_count": 6,
   "metadata": {
    "collapsed": false
   },
   "outputs": [],
   "source": [
    "# <!-- collapse=True -->\n",
    "# save the animation\n",
    "import matplotlib.animation as animation\n",
    "\n",
    "fig = plt.figure(figsize=(5, 2.5))\n",
    "plt.plot(x, y,  label='data')\n",
    "line, = plt.plot(x, history.predictions[0],  label='prediction')\n",
    "plt.legend(loc='upper left')\n",
    "\n",
    "def update_line(num):\n",
    "    plt.title('iteration: {0}'.format((history.save_every * (num + 1))))\n",
    "    line.set_xdata(x)\n",
    "    line.set_ydata(history.predictions[num])\n",
    "    return []\n",
    "\n",
    "ani = animation.FuncAnimation(fig, update_line, len(history.predictions),\n",
    "                                   interval=50, blit=True)\n",
    "ani.save('../videos/neuron.mp4', extra_args=['-vcodec', 'libx264'])\n",
    "plt.close()\n",
    "\n",
    "plt.figure(figsize=(5, 2.5))\n",
    "plt.plot(x, y, label='data')\n",
    "plt.plot(x, history.predictions[0], label='prediction')\n",
    "plt.legend(loc='upper left')\n",
    "plt.title('iteration: 0')\n",
    "plt.savefig('../images/neuron_start.png')\n",
    "plt.close()"
   ]
  },
  {
   "cell_type": "code",
   "execution_count": null,
   "metadata": {
    "collapsed": true
   },
   "outputs": [],
   "source": [
    "plt.plot(x, y, label='data')"
   ]
  },
  {
   "cell_type": "code",
   "execution_count": null,
   "metadata": {
    "collapsed": true
   },
   "outputs": [],
   "source": [
    "pred = model.predict(X_train)\n",
    "plt.plot(x, pred)\n",
    "plt.plot(x, y)"
   ]
  },
  {
   "cell_type": "code",
   "execution_count": null,
   "metadata": {
    "collapsed": true
   },
   "outputs": [],
   "source": [
    "# from keras.optimizers import RMSprop\n",
    "# opti = RMSprop(lr=0.001, rho=0.9, epsilon=1e-06)\n",
    "# model.compile(loss='mean_squared_error', optimizer=opti)"
   ]
  },
  {
   "cell_type": "code",
   "execution_count": null,
   "metadata": {
    "collapsed": true
   },
   "outputs": [],
   "source": [
    "from keras import backend as K\n",
    "\n",
    "def get_layer_outoput(layer):\n",
    "    return K.function([model.layers[0].input],\n",
    "                      [model.layers[layer].get_output(train=False)])\n",
    "\n",
    "print('weigths')\n",
    "print(model.layers[0].get_weights())\n",
    "#print(model.layers[2].get_weights())\n",
    "print()\n",
    "\n",
    "#print(model.layers[0].get_weights())\n",
    "\n",
    "# print('layers for input 0')\n",
    "# print(get_layer_outoput(0)([X_train[0:1,:]])[0])\n",
    "# print(get_layer_outoput(1)([X_train[0:1,:]])[0])\n",
    "# #print(get_layer_outoput(2)([X_train[0:1,:]])[0])\n",
    "# print()\n",
    "\n",
    "# print('layers for input 0.5')\n",
    "# print(get_layer_outoput(0)([X_train[5:6,:]])[0])\n",
    "# print(get_layer_outoput(1)([X_train[5:6,:]])[0])\n",
    "# #print(get_layer_outoput(2)([X_train[5:6,:]])[0])\n",
    "# print()\n",
    "\n",
    "# print('layers for input 1')\n",
    "# print(get_layer_outoput(0)([X_train[10:11,:]])[0])\n",
    "# print(get_layer_outoput(1)([X_train[10:11,:]])[0])\n",
    "#print(get_layer_outoput(2)([X_train[10:11,:]])[0])"
   ]
  },
  {
   "cell_type": "code",
   "execution_count": null,
   "metadata": {
    "collapsed": true
   },
   "outputs": [],
   "source": []
  }
 ],
 "metadata": {
  "kernelspec": {
   "display_name": "Conda",
   "language": "python",
   "name": "python3"
  },
  "language_info": {
   "codemirror_mode": {
    "name": "ipython",
    "version": 3
   },
   "file_extension": ".py",
   "mimetype": "text/x-python",
   "name": "python",
   "nbconvert_exporter": "python",
   "pygments_lexer": "ipython3",
   "version": "3.5.1"
  }
 },
 "nbformat": 4,
 "nbformat_minor": 0
}
