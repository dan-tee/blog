{
 "cells": [
  {
   "cell_type": "code",
   "execution_count": 1,
   "metadata": {
    "collapsed": false
   },
   "outputs": [
    {
     "data": {
      "image/png": "[encoded data removed]"
     },
     "metadata": {},
     "output_type": "display_data"
    }
   ],
   "source": [
    "# <!-- collapse=True -->\n",
    "%matplotlib inline\n",
    "import pandas as pd\n",
    "import numpy as np\n",
    "import matplotlib.pyplot as plt\n",
    "import seaborn as sns\n",
    "import math\n",
    "sns.set_style('whitegrid')\n",
    "sns.set_context('talk')\n",
    "\n",
    "n_points = 100\n",
    "x = np.linspace(0, 2, n_points)\n",
    "y = np.array([0] * int(n_points/2) + list(x[:50]))\n",
    "\n",
    "plt.figure(figsize=(5, 2))\n",
    "plt.plot(x, y, linewidth=2)\n",
    "plt.title('the data')\n",
    "plt.xlabel('x')\n",
    "plt.ylabel('y')\n",
    "plt.show()"
   ]
  },
  {
   "cell_type": "code",
   "execution_count": 2,
   "metadata": {
    "collapsed": false
   },
   "outputs": [
    {
     "data": {
      "text/plain": [
       "'test'"
      ]
     },
     "execution_count": 2,
     "metadata": {},
     "output_type": "execute_result"
    }
   ],
   "source": [
    "'test'"
   ]
  },
  {
   "cell_type": "markdown",
   "metadata": {},
   "source": [
    "## neural network magic"
   ]
  },
  {
   "cell_type": "code",
   "execution_count": 3,
   "metadata": {
    "collapsed": false
   },
   "outputs": [
    {
     "ename": "IndentationError",
     "evalue": "unexpected indent (<ipython-input-3-e66d65c69dda>, line 63)",
     "output_type": "error",
     "traceback": [
      "\u001b[0;36m  File \u001b[0;32m\"<ipython-input-3-e66d65c69dda>\"\u001b[0;36m, line \u001b[0;32m63\u001b[0m\n\u001b[0;31m    Y_train,\u001b[0m\n\u001b[0m    ^\u001b[0m\n\u001b[0;31mIndentationError\u001b[0m\u001b[0;31m:\u001b[0m unexpected indent\n"
     ]
    }
   ],
   "source": [
    "from keras.models import Sequential\n",
    "from keras.layers.core import Dense, Activation\n",
    "from keras.callbacks import Callback\n",
    "model = Sequential()\n",
    "\n",
    "n_conn = 1\n",
    "model.add(Dense(output_dim=n_conn, input_dim=1, init=\"glorot_normal\"))\n",
    "model.add(Activation(\"relu\"))\n",
    "#model.add(Dense(output_dim=1, init=\"glorot_normal\"))\n",
    "\n",
    "# from keras.optimizers import RMSprop\n",
    "# opti = RMSprop(lr=0.001, rho=0.9, epsilon=1e-06)\n",
    "# model.compile(loss='mean_squared_error', optimizer=opti)\n",
    "model.compile(loss='mean_squared_error', optimizer='sgd')\n",
    "\n",
    "X_train = np.array(x, ndmin=2).T\n",
    "Y_train = np.array(y, ndmin=2).T\n",
    "\n",
    "%matplotlib notebook\n",
    "epochs = 10000\n",
    "batch_size = 100\n",
    "n_batches = n_points / batch_size\n",
    "\n",
    "class PlotLoss(Callback):\n",
    "    def on_train_begin(self, logs={}):\n",
    "        fig, (ax1, ax2) = plt.subplots(2, 1)\n",
    "        self.fig = fig\n",
    "        self.ax1 = ax1\n",
    "        ax1.set_xlim([0, n_batches * epochs])\n",
    "        #ax1.set_ylim([0, 1])\n",
    "        self.ax2 = ax2\n",
    "        \n",
    "        self.losses = []\n",
    "        self.i = 0\n",
    "\n",
    "    def on_batch_end(self, batch, logs={}):\n",
    "        self.losses.append(logs.get('loss'))\n",
    "        self.i += 1\n",
    "        if self.i % 500 == 0:        \n",
    "            if len(self.ax1.lines):\n",
    "                self.ax1.lines[0].set_xdata(range(len(self.losses)))\n",
    "                self.ax1.lines[0].set_ydata(self.losses)\n",
    "            else:\n",
    "                self.ax1.plot(self.losses)\n",
    "                self.ax1.set_title('training loss')\n",
    "            self.fig.canvas.draw()\n",
    "        \n",
    "        if self.i % 500 == 0:        \n",
    "            pred = model.predict(X_train)\n",
    "            if len(self.ax2.lines):\n",
    "                self.ax2.lines[0].set_xdata(x)\n",
    "                self.ax2.lines[0].set_ydata(y)\n",
    "                self.ax2.lines[1].set_xdata(x)\n",
    "                self.ax2.lines[1].set_ydata(pred)\n",
    "            else:\n",
    "                self.ax2.plot(x, pred, label='prediction')\n",
    "                self.ax2.plot(x, y, label='data')\n",
    "                self.ax2.legend(loc='upper left')\n",
    "            self.fig.canvas.draw()\n",
    "            \n",
    "loss = PlotLoss()\n",
    "%time model.fit(X_train,\n",
    "                Y_train,\n",
    "                nb_epoch=epochs,\n",
    "                batch_size=batch_size,\n",
    "                verbose=0,\n",
    "                callbacks=[loss])\n",
    "%matplotlib inline"
   ]
  },
  {
   "cell_type": "code",
   "execution_count": null,
   "metadata": {
    "collapsed": true
   },
   "outputs": [],
   "source": [
    "pred = model.predict(X_train)\n",
    "plt.plot(x, pred)\n",
    "plt.plot(x, y)\n",
    "pred"
   ]
  },
  {
   "cell_type": "code",
   "execution_count": null,
   "metadata": {
    "collapsed": true
   },
   "outputs": [],
   "source": [
    "from keras import backend as K\n",
    "\n",
    "def get_layer_outoput(layer):\n",
    "    return K.function([model.layers[0].input],\n",
    "                      [model.layers[layer].get_output(train=False)])\n",
    "\n",
    "print('weigths')\n",
    "print(model.layers[0].get_weights())\n",
    "#print(model.layers[2].get_weights())\n",
    "print()\n",
    "\n",
    "print('layers for input 0')\n",
    "print(get_layer_outoput(0)([X_train[0:1,:]])[0])\n",
    "print(get_layer_outoput(1)([X_train[0:1,:]])[0])\n",
    "#print(get_layer_outoput(2)([X_train[0:1,:]])[0])\n",
    "print()\n",
    "\n",
    "print('layers for input 0.5')\n",
    "print(get_layer_outoput(0)([X_train[5:6,:]])[0])\n",
    "print(get_layer_outoput(1)([X_train[5:6,:]])[0])\n",
    "#print(get_layer_outoput(2)([X_train[5:6,:]])[0])\n",
    "print()\n",
    "\n",
    "print('layers for input 1')\n",
    "print(get_layer_outoput(0)([X_train[10:11,:]])[0])\n",
    "print(get_layer_outoput(1)([X_train[10:11,:]])[0])\n",
    "#print(get_layer_outoput(2)([X_train[10:11,:]])[0])"
   ]
  },
  {
   "cell_type": "code",
   "execution_count": null,
   "metadata": {
    "collapsed": true
   },
   "outputs": [],
   "source": []
  }
 ],
 "metadata": {
  "kernelspec": {
   "display_name": "Conda",
   "language": "python",
   "name": "python3"
  },
  "language_info": {
   "codemirror_mode": {
    "name": "ipython",
    "version": 3
   },
   "file_extension": ".py",
   "mimetype": "text/x-python",
   "name": "python",
   "nbconvert_exporter": "python",
   "pygments_lexer": "ipython3",
   "version": "3.5.1"
  }
 },
 "nbformat": 4,
 "nbformat_minor": 0
}
